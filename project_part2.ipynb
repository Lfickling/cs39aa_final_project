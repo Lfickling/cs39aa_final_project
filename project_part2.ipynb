{
 "cells": [
  {
   "cell_type": "markdown",
   "metadata": {},
   "source": [
    "Project Part 2: A Baseline Model (or Bayesline ;) ) \n",
    "As we've said, any machine learning project Links to an external site.that carried out appropriately will include a quick-and-dirty baseline model. This is exactly what we did with our Airline Tweet dataset in notebook C Links to an external site., and what you did in Assign 3. \n",
    "\n",
    "This time you will use your dataset/problem that you described in Part 1 of the Project (the proposal and exploratory analysis). \n",
    "\n",
    "This should be done in a Jupyter notebook and you should add the notebook to the repository that you created in Project Part 1. When you are done, you will then get the URL of your project_part2.ipynb notebook in your GitHub repository, and submit that URL here in Canvas. \n",
    "\n",
    " \n",
    "\n",
    "Note: Be sure that the output from each cell in you your notebook files is saved to the .ipynb file before your final commit and upload to your GitHub repository.\n",
    "\n",
    "Note: If you are working with data that already requires a sophisticated model, then you will still want to use the simplest possible approach for this Part 2; and then try a model that requires more configuration or training in Part 3. If you are carrying out more of a research project, then this Part 2 notebook might be more about the background of what you are exploring (e.g. how do words from the book, 'Ulysses', compare to one another when using the GloVe embeddings; then, in Part 3 you would create embeddings from 'Ulysses' itself and see how they compare). Keep in mind that we will be doing presentations in the end, so you want to take your results from Parts 1-3 and turn them into a story that you share with your classmates so that they understand what you did and what worked (or didn't).\n"
   ]
  }
 ],
 "metadata": {
  "kernelspec": {
   "display_name": "Python 3.9.2 64-bit",
   "language": "python",
   "name": "python3"
  },
  "language_info": {
   "name": "python",
   "version": "3.9.2"
  },
  "orig_nbformat": 4,
  "vscode": {
   "interpreter": {
    "hash": "31f2aee4e71d21fbe5cf8b01ff0e069b9275f58929596ceb00d14d90e3e16cd6"
   }
  }
 },
 "nbformat": 4,
 "nbformat_minor": 2
}
